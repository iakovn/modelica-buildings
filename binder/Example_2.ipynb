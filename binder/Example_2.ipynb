{
 "cells": [
  {
   "cell_type": "code",
   "execution_count": 3,
   "metadata": {},
   "outputs": [
    {
     "name": "stdout",
     "output_type": "stream",
     "text": [
      "2.7.13 (v2.7.13:a06454b1afa1, Dec 17 2016, 20:53:40) [MSC v.1500 64 bit (AMD64)]\n",
      "True\n",
      "C:\\Users\\matthis.thorade\\Documents\\Dymola\\modelica-buildings\\binder\n"
     ]
    }
   ],
   "source": [
    "# paths and info\n",
    "import os, sys\n",
    "homeDir = os.environ['HOMEPATH']\n",
    "jmodDir = os.environ['JMODELICA_HOME']\n",
    "moLiDir = os.path.join(homeDir, \"Documents\", \"Dymola\")\n",
    "\n",
    "# give the path to directory where package.mo is stored\n",
    "moLibs = [os.path.join(jmodDir, \"ThirdParty\\MSL\\Modelica\"),\n",
    "          os.path.join(jmodDir, \"ThirdParty\\MSL\\ModelicaServices\"),\n",
    "          os.path.join(moLiDir, \"P509-ML\", \"Modelon\"),\n",
    "          os.path.join(moLiDir, \"P513-RegressionTesting\", \"RegressionTesting\"),\n",
    "          os.path.join(moLiDir, \"P513-RegressionTesting\", \"RegressionTesting\"),\n",
    "          os.path.join(moLiDir, \"P501-AC\", \"ThermoFluidPro\"),\n",
    "          os.path.join(moLiDir, \"P501-AC\", \"AirConditioning\"),\n",
    "          os.path.join(moLiDir, \"P501-AC\", \"AirConditioningTests\"),\n",
    "         ]\n",
    "\n",
    "print(sys.version)\n",
    "print(all(os.path.isfile(os.path.join(moLib, \"package.mo\")) for moLib in moLibs))\n",
    "print(os.getcwd())"
   ]
  },
  {
   "cell_type": "code",
   "execution_count": 3,
   "metadata": {},
   "outputs": [],
   "source": [
    "# compile model to fmu\n",
    "from pymodelica import compile_fmu\n",
    "model_name = 'AirConditioningTests.AC_Templates.CondReceiverIHXCycle'\n",
    "my_fmu = compile_fmu(model_name, moLibs, compiler= 'modelica', compiler_options={\"msvs_version\":\"2017\"} , target='me', version='2.0', platform='win64', compile_to='.', compiler_log_level='debug:log.txt', jvm_args='-Xmx8g') "
   ]
  },
  {
   "cell_type": "code",
   "execution_count": null,
   "metadata": {},
   "outputs": [],
   "source": [
    "# simulate the fmu and store results\n",
    "from pyfmi import load_fmu\n",
    "myModel = load_fmu(my_fmu)\n",
    "\n",
    "opts = myModel.simulate_options()\n",
    "opts['solver'] = \"CVode\"\n",
    "opts['ncp'] = 500\n",
    "opts['result_handling']=\"file\"\n",
    "opts[\"CVode_options\"]['discr'] = 'BDF'\n",
    "opts['CVode_options']['iter'] = 'Newton'\n",
    "opts['CVode_options']['maxord'] = 5\n",
    "opts['CVode_options']['atol'] = 1e-6\n",
    "opts['CVode_options']['rtol'] = 1e-6\n",
    "\n",
    "res = myModel.simulate(start_time=0, final_time=180, options=opts)"
   ]
  },
  {
   "cell_type": "code",
   "execution_count": null,
   "metadata": {},
   "outputs": [],
   "source": [
    "# plotting of the results\n",
    "import matplotlib.pyplot as plt\n",
    "\n",
    "time = 'time'\n",
    "names = ['summary.SpecificCharge', 'summary.P_condenser']\n",
    "\n",
    "x = res[time]\n",
    "for name in names:\n",
    "    y = res[name]\n",
    "    plt.plot(x, y)\n",
    "    plt.xlabel('Time (s)')\n",
    "    plt.ylabel(name)\n",
    "    plt.savefig(name.replace('.','_')+'.pdf')\n",
    "    plt.show()"
   ]
  },
  {
   "cell_type": "code",
   "execution_count": null,
   "metadata": {},
   "outputs": [],
   "source": []
  }
 ],
 "metadata": {
  "kernelspec": {
   "display_name": "Python 2",
   "language": "python",
   "name": "python2"
  },
  "language_info": {
   "codemirror_mode": {
    "name": "ipython",
    "version": 2
   },
   "file_extension": ".py",
   "mimetype": "text/x-python",
   "name": "python",
   "nbconvert_exporter": "python",
   "pygments_lexer": "ipython2",
   "version": "2.7.13"
  }
 },
 "nbformat": 4,
 "nbformat_minor": 2
}
